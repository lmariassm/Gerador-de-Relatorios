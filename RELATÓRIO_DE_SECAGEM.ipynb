{
  "nbformat": 4,
  "nbformat_minor": 0,
  "metadata": {
    "colab": {
      "provenance": [],
      "include_colab_link": true
    },
    "kernelspec": {
      "name": "python3",
      "display_name": "Python 3"
    },
    "language_info": {
      "name": "python"
    }
  },
  "cells": [
    {
      "cell_type": "markdown",
      "metadata": {
        "id": "view-in-github",
        "colab_type": "text"
      },
      "source": [
        "<a href=\"https://colab.research.google.com/github/lmariassm/Rp_Laura/blob/master/RELAT%C3%93RIO_DE_SECAGEM.ipynb\" target=\"_parent\"><img src=\"https://colab.research.google.com/assets/colab-badge.svg\" alt=\"Open In Colab\"/></a>"
      ]
    },
    {
      "cell_type": "code",
      "execution_count": null,
      "metadata": {
        "id": "vAOL9n3zHI12"
      },
      "outputs": [],
      "source": [
        "import pandas as pd\n",
        "from scipy.optimize import curve_fit\n",
        "from sklearn.metrics import r2_score\n",
        "df = pd.read_excel('/content/GRáfico secagem.xlsx')"
      ]
    },
    {
      "cell_type": "markdown",
      "source": [],
      "metadata": {
        "id": "DHKfuhAkU4pd"
      }
    },
    {
      "cell_type": "code",
      "source": [
        "df"
      ],
      "metadata": {
        "colab": {
          "base_uri": "https://localhost:8080/",
          "height": 520
        },
        "id": "RpOCzTaHKXqI",
        "outputId": "8f4328de-ac5b-4587-ec43-e889ee7715f2"
      },
      "execution_count": null,
      "outputs": [
        {
          "output_type": "execute_result",
          "data": {
            "text/plain": [
              "    t(min)  MR tijolo  MR folha\n",
              "0       15   0.000000  0.000000\n",
              "1       14   0.045305 -0.040216\n",
              "2       13   0.098847  0.035628\n",
              "3       12   0.154860  0.071795\n",
              "4       11   0.213344  0.112821\n",
              "5       10   0.277595  0.154926\n",
              "6        9   0.339374  0.207557\n",
              "7        8   0.408567  0.269366\n",
              "8        7   0.476112  0.333603\n",
              "9        6   0.553542  0.403239\n",
              "10       5   0.632619  0.490148\n",
              "11       4   0.711697  0.584885\n",
              "12       3   0.800659  0.721457\n",
              "13       2   0.897858  0.901754\n",
              "14       1   1.000000  1.000000"
            ],
            "text/html": [
              "\n",
              "  <div id=\"df-f4e6e68b-8c7f-47c0-8ca9-01497b201e96\">\n",
              "    <div class=\"colab-df-container\">\n",
              "      <div>\n",
              "<style scoped>\n",
              "    .dataframe tbody tr th:only-of-type {\n",
              "        vertical-align: middle;\n",
              "    }\n",
              "\n",
              "    .dataframe tbody tr th {\n",
              "        vertical-align: top;\n",
              "    }\n",
              "\n",
              "    .dataframe thead th {\n",
              "        text-align: right;\n",
              "    }\n",
              "</style>\n",
              "<table border=\"1\" class=\"dataframe\">\n",
              "  <thead>\n",
              "    <tr style=\"text-align: right;\">\n",
              "      <th></th>\n",
              "      <th>t(min)</th>\n",
              "      <th>MR tijolo</th>\n",
              "      <th>MR folha</th>\n",
              "    </tr>\n",
              "  </thead>\n",
              "  <tbody>\n",
              "    <tr>\n",
              "      <th>0</th>\n",
              "      <td>15</td>\n",
              "      <td>0.000000</td>\n",
              "      <td>0.000000</td>\n",
              "    </tr>\n",
              "    <tr>\n",
              "      <th>1</th>\n",
              "      <td>14</td>\n",
              "      <td>0.045305</td>\n",
              "      <td>-0.040216</td>\n",
              "    </tr>\n",
              "    <tr>\n",
              "      <th>2</th>\n",
              "      <td>13</td>\n",
              "      <td>0.098847</td>\n",
              "      <td>0.035628</td>\n",
              "    </tr>\n",
              "    <tr>\n",
              "      <th>3</th>\n",
              "      <td>12</td>\n",
              "      <td>0.154860</td>\n",
              "      <td>0.071795</td>\n",
              "    </tr>\n",
              "    <tr>\n",
              "      <th>4</th>\n",
              "      <td>11</td>\n",
              "      <td>0.213344</td>\n",
              "      <td>0.112821</td>\n",
              "    </tr>\n",
              "    <tr>\n",
              "      <th>5</th>\n",
              "      <td>10</td>\n",
              "      <td>0.277595</td>\n",
              "      <td>0.154926</td>\n",
              "    </tr>\n",
              "    <tr>\n",
              "      <th>6</th>\n",
              "      <td>9</td>\n",
              "      <td>0.339374</td>\n",
              "      <td>0.207557</td>\n",
              "    </tr>\n",
              "    <tr>\n",
              "      <th>7</th>\n",
              "      <td>8</td>\n",
              "      <td>0.408567</td>\n",
              "      <td>0.269366</td>\n",
              "    </tr>\n",
              "    <tr>\n",
              "      <th>8</th>\n",
              "      <td>7</td>\n",
              "      <td>0.476112</td>\n",
              "      <td>0.333603</td>\n",
              "    </tr>\n",
              "    <tr>\n",
              "      <th>9</th>\n",
              "      <td>6</td>\n",
              "      <td>0.553542</td>\n",
              "      <td>0.403239</td>\n",
              "    </tr>\n",
              "    <tr>\n",
              "      <th>10</th>\n",
              "      <td>5</td>\n",
              "      <td>0.632619</td>\n",
              "      <td>0.490148</td>\n",
              "    </tr>\n",
              "    <tr>\n",
              "      <th>11</th>\n",
              "      <td>4</td>\n",
              "      <td>0.711697</td>\n",
              "      <td>0.584885</td>\n",
              "    </tr>\n",
              "    <tr>\n",
              "      <th>12</th>\n",
              "      <td>3</td>\n",
              "      <td>0.800659</td>\n",
              "      <td>0.721457</td>\n",
              "    </tr>\n",
              "    <tr>\n",
              "      <th>13</th>\n",
              "      <td>2</td>\n",
              "      <td>0.897858</td>\n",
              "      <td>0.901754</td>\n",
              "    </tr>\n",
              "    <tr>\n",
              "      <th>14</th>\n",
              "      <td>1</td>\n",
              "      <td>1.000000</td>\n",
              "      <td>1.000000</td>\n",
              "    </tr>\n",
              "  </tbody>\n",
              "</table>\n",
              "</div>\n",
              "      <button class=\"colab-df-convert\" onclick=\"convertToInteractive('df-f4e6e68b-8c7f-47c0-8ca9-01497b201e96')\"\n",
              "              title=\"Convert this dataframe to an interactive table.\"\n",
              "              style=\"display:none;\">\n",
              "        \n",
              "  <svg xmlns=\"http://www.w3.org/2000/svg\" height=\"24px\"viewBox=\"0 0 24 24\"\n",
              "       width=\"24px\">\n",
              "    <path d=\"M0 0h24v24H0V0z\" fill=\"none\"/>\n",
              "    <path d=\"M18.56 5.44l.94 2.06.94-2.06 2.06-.94-2.06-.94-.94-2.06-.94 2.06-2.06.94zm-11 1L8.5 8.5l.94-2.06 2.06-.94-2.06-.94L8.5 2.5l-.94 2.06-2.06.94zm10 10l.94 2.06.94-2.06 2.06-.94-2.06-.94-.94-2.06-.94 2.06-2.06.94z\"/><path d=\"M17.41 7.96l-1.37-1.37c-.4-.4-.92-.59-1.43-.59-.52 0-1.04.2-1.43.59L10.3 9.45l-7.72 7.72c-.78.78-.78 2.05 0 2.83L4 21.41c.39.39.9.59 1.41.59.51 0 1.02-.2 1.41-.59l7.78-7.78 2.81-2.81c.8-.78.8-2.07 0-2.86zM5.41 20L4 18.59l7.72-7.72 1.47 1.35L5.41 20z\"/>\n",
              "  </svg>\n",
              "      </button>\n",
              "      \n",
              "  <style>\n",
              "    .colab-df-container {\n",
              "      display:flex;\n",
              "      flex-wrap:wrap;\n",
              "      gap: 12px;\n",
              "    }\n",
              "\n",
              "    .colab-df-convert {\n",
              "      background-color: #E8F0FE;\n",
              "      border: none;\n",
              "      border-radius: 50%;\n",
              "      cursor: pointer;\n",
              "      display: none;\n",
              "      fill: #1967D2;\n",
              "      height: 32px;\n",
              "      padding: 0 0 0 0;\n",
              "      width: 32px;\n",
              "    }\n",
              "\n",
              "    .colab-df-convert:hover {\n",
              "      background-color: #E2EBFA;\n",
              "      box-shadow: 0px 1px 2px rgba(60, 64, 67, 0.3), 0px 1px 3px 1px rgba(60, 64, 67, 0.15);\n",
              "      fill: #174EA6;\n",
              "    }\n",
              "\n",
              "    [theme=dark] .colab-df-convert {\n",
              "      background-color: #3B4455;\n",
              "      fill: #D2E3FC;\n",
              "    }\n",
              "\n",
              "    [theme=dark] .colab-df-convert:hover {\n",
              "      background-color: #434B5C;\n",
              "      box-shadow: 0px 1px 3px 1px rgba(0, 0, 0, 0.15);\n",
              "      filter: drop-shadow(0px 1px 2px rgba(0, 0, 0, 0.3));\n",
              "      fill: #FFFFFF;\n",
              "    }\n",
              "  </style>\n",
              "\n",
              "      <script>\n",
              "        const buttonEl =\n",
              "          document.querySelector('#df-f4e6e68b-8c7f-47c0-8ca9-01497b201e96 button.colab-df-convert');\n",
              "        buttonEl.style.display =\n",
              "          google.colab.kernel.accessAllowed ? 'block' : 'none';\n",
              "\n",
              "        async function convertToInteractive(key) {\n",
              "          const element = document.querySelector('#df-f4e6e68b-8c7f-47c0-8ca9-01497b201e96');\n",
              "          const dataTable =\n",
              "            await google.colab.kernel.invokeFunction('convertToInteractive',\n",
              "                                                     [key], {});\n",
              "          if (!dataTable) return;\n",
              "\n",
              "          const docLinkHtml = 'Like what you see? Visit the ' +\n",
              "            '<a target=\"_blank\" href=https://colab.research.google.com/notebooks/data_table.ipynb>data table notebook</a>'\n",
              "            + ' to learn more about interactive tables.';\n",
              "          element.innerHTML = '';\n",
              "          dataTable['output_type'] = 'display_data';\n",
              "          await google.colab.output.renderOutput(dataTable, element);\n",
              "          const docLink = document.createElement('div');\n",
              "          docLink.innerHTML = docLinkHtml;\n",
              "          element.appendChild(docLink);\n",
              "        }\n",
              "      </script>\n",
              "    </div>\n",
              "  </div>\n",
              "  "
            ]
          },
          "metadata": {},
          "execution_count": 51
        }
      ]
    },
    {
      "cell_type": "markdown",
      "source": [
        "Tijolo"
      ],
      "metadata": {
        "id": "kxPoTBFeU6t1"
      }
    },
    {
      "cell_type": "code",
      "source": [
        "X = df['t(min)']\n",
        "Y = df['MR tijolo']\n",
        "Y2 = df['MR folha']"
      ],
      "metadata": {
        "id": "H1UjNIT5Hsej"
      },
      "execution_count": null,
      "outputs": []
    },
    {
      "cell_type": "code",
      "source": [
        "from numpy import e"
      ],
      "metadata": {
        "id": "fkZeeIGlKmrN"
      },
      "execution_count": null,
      "outputs": []
    },
    {
      "cell_type": "markdown",
      "source": [
        "# Modelos"
      ],
      "metadata": {
        "id": "mKgQwY2oNph-"
      }
    },
    {
      "cell_type": "code",
      "source": [
        "ListaK= []\n",
        "Listan= []\n",
        "Listaa= []\n",
        "Listab= []\n",
        "Listac= []\n",
        "Listak1= []\n",
        "Listak2= []\n",
        "Listak3= []\n",
        "ListaR2=[]"
      ],
      "metadata": {
        "id": "i6Lb4KitYejP"
      },
      "execution_count": null,
      "outputs": []
    },
    {
      "cell_type": "code",
      "source": [
        "def Lewis(t, k):\n",
        "\n",
        "\treturn e ** (-k * t)\n",
        "\n",
        "parameters, _ = curve_fit(Lewis, X, Y)\n",
        "k = parameters\n",
        "Y_pred = e ** (-k *X)\n",
        "r_2 = r2_score(Y, Y_pred)\n",
        "ListaR2.append(r_2)\n",
        "ListaK.append(k)\n",
        "Listan.append('')\n",
        "Listaa.append('')\n",
        "Listab.append('')\n",
        "Listac.append('')\n",
        "Listak1.append('')\n",
        "Listak2.append('')\n",
        "Listak3.append('')"
      ],
      "metadata": {
        "id": "f4nL2hpSIAj4"
      },
      "execution_count": null,
      "outputs": []
    },
    {
      "cell_type": "code",
      "source": [
        "def Page(t, k, n):\n",
        "\n",
        "\treturn e ** (-k * (t ** n))\n",
        "parameters, _ = curve_fit(Page, X, Y)\n",
        "k, n = parameters\n",
        "Y_pred = e ** (-k * ((X)**n))\n",
        "r_2 = r2_score(Y, Y_pred)\n",
        "\n",
        "ListaR2.append(r_2)\n",
        "ListaK.append(k)\n",
        "Listan.append(n)\n",
        "Listaa.append('')\n",
        "Listab.append('')\n",
        "Listac.append('')\n",
        "Listak1.append('')\n",
        "Listak2.append('')\n",
        "Listak3.append('')"
      ],
      "metadata": {
        "id": "55ZyHBygQKJ3"
      },
      "execution_count": null,
      "outputs": []
    },
    {
      "cell_type": "code",
      "source": [
        "def Overhults(t, k, n):\n",
        "\n",
        "\treturn e ** (-(k *t)**n)\n",
        "parameters, _ = curve_fit(Overhults, X, Y)\n",
        "k, n = parameters\n",
        "Y_pred =e ** (-(k*X)**n)\n",
        "r_2 = r2_score(Y, Y_pred)\n",
        "ListaR2.append(r_2)\n",
        "ListaK.append(k)\n",
        "Listan.append(n)\n",
        "Listaa.append('')\n",
        "Listab.append('')\n",
        "Listac.append('')\n",
        "Listak1.append('')\n",
        "Listak2.append('')\n",
        "Listak3.append('')"
      ],
      "metadata": {
        "id": "oIZJ8eraQ5gH"
      },
      "execution_count": null,
      "outputs": []
    },
    {
      "cell_type": "code",
      "source": [
        "def HP(t, k, a):\n",
        "\n",
        "\treturn a*e ** (-k *t)\n",
        "parameters, _ = curve_fit(HP, X, Y)\n",
        "k, a = parameters\n",
        "Y_pred =a*e ** (-k *X)\n",
        "r_2 = r2_score(Y, Y_pred)\n",
        "ListaR2.append(r_2)\n",
        "ListaK.append(k)\n",
        "Listan.append(n)\n",
        "Listaa.append(a)\n",
        "Listab.append('')\n",
        "Listac.append('')\n",
        "Listak1.append('')\n",
        "Listak2.append('')\n",
        "Listak3.append('')"
      ],
      "metadata": {
        "id": "CJJX03rHRD-Q"
      },
      "execution_count": null,
      "outputs": []
    },
    {
      "cell_type": "code",
      "source": [
        "def Log(t, k, a, c):\n",
        "\n",
        "\treturn (a*e ** (-k *t))+c\n",
        "parameters, _ = curve_fit(Log, X, Y)\n",
        "k, a, c = parameters\n",
        "Y_pred =(a*e ** (-k *X))+c\n",
        "r_2 = r2_score(Y, Y_pred)\n",
        "ListaR2.append(r_2)\n",
        "ListaK.append(k)\n",
        "Listan.append(n)\n",
        "Listaa.append(a)\n",
        "Listab.append('')\n",
        "Listac.append(c)\n",
        "Listak1.append('')\n",
        "Listak2.append('')\n",
        "Listak3.append('')"
      ],
      "metadata": {
        "id": "YsTVyMtARXO_"
      },
      "execution_count": null,
      "outputs": []
    },
    {
      "cell_type": "code",
      "source": [
        "def Midi(t, k, a, n, b):\n",
        "\n",
        "\treturn (a*e ** (-k *(t)**n))+b*t\n",
        "parameters, _ = curve_fit(Midi, X, Y)\n",
        "k, a, n, b = parameters\n",
        "Y_pred =(a*e ** (-k *(X)**n))+b*X\n",
        "r_2 = r2_score(Y, Y_pred)\n",
        "ListaR2.append(r_2)\n",
        "ListaK.append(k)\n",
        "Listan.append(n)\n",
        "Listaa.append(a)\n",
        "Listab.append(b)\n",
        "Listac.append('')\n",
        "Listak1.append('')\n",
        "Listak2.append('')\n",
        "Listak3.append('')"
      ],
      "metadata": {
        "id": "JOvA-lOwRnxm"
      },
      "execution_count": null,
      "outputs": []
    },
    {
      "cell_type": "code",
      "source": [
        "def Midi(t, k, a, n, b):\n",
        "\n",
        "\treturn (a*e ** (-k *(t)**n))+b*t\n",
        "parameters, _ = curve_fit(Midi, X, Y2)\n",
        "k, a, n, b = parameters\n",
        "Y_pred2 =(a*e ** (-k *(X)**n))+b*X\n",
        "r_2 = r2_score(Y, Y_pred)\n",
        "ListaR2.append(r_2)\n",
        "ListaK.append(k)\n",
        "Listan.append(n)\n",
        "Listaa.append(a)\n",
        "Listab.append(b)\n",
        "Listac.append('')\n",
        "Listak1.append('')\n",
        "Listak2.append('')\n",
        "Listak3.append('')"
      ],
      "metadata": {
        "id": "Qq1_976P4INy"
      },
      "execution_count": null,
      "outputs": []
    },
    {
      "cell_type": "code",
      "source": [
        "def term(t, k1, k2, a, b):\n",
        "\n",
        "\treturn a*e ** (-k1 *t) + b*e ** (-k2 *t)\n",
        "parameters, _ = curve_fit(term, X, Y)\n",
        "k1, k2, a, b = parameters\n",
        "Y_pred =a*e ** (-k1 *X) + b*e ** (-k2 *X)\n",
        "r_2 = r2_score(Y, Y_pred)\n",
        "ListaR2.append(r_2)\n",
        "ListaK.append('')\n",
        "Listan.append('')\n",
        "Listaa.append(a)\n",
        "Listab.append(b)\n",
        "Listac.append('')\n",
        "Listak1.append(k1)\n",
        "Listak2.append(k2)\n",
        "Listak3.append('')"
      ],
      "metadata": {
        "colab": {
          "base_uri": "https://localhost:8080/"
        },
        "id": "Uq5M0eFbR__7",
        "outputId": "26ad3206-c3f9-4d79-ab94-9168cf92b762"
      },
      "execution_count": null,
      "outputs": [
        {
          "output_type": "stream",
          "name": "stderr",
          "text": [
            "/usr/local/lib/python3.7/dist-packages/scipy/optimize/minpack.py:834: OptimizeWarning: Covariance of the parameters could not be estimated\n",
            "  category=OptimizeWarning)\n"
          ]
        }
      ]
    },
    {
      "cell_type": "code",
      "source": [
        "def exp2(t, k, a):\n",
        "\n",
        "\treturn a*e ** (-k *t) + (1-a)*e ** (-k*a*t)\n",
        "parameters, _ = curve_fit(exp2, X, Y)\n",
        "k, a = parameters\n",
        "Y_pred =a*e ** (-k *X) + (1-a)*e ** (-k*a*X)\n",
        "r_2 = r2_score(Y, Y_pred)\n",
        "ListaR2.append(r_2)\n",
        "ListaK.append(k)\n",
        "Listan.append('')\n",
        "Listaa.append(a)\n",
        "Listab.append('')\n",
        "Listac.append('')\n",
        "Listak1.append('')\n",
        "Listak2.append('')\n",
        "Listak3.append('')"
      ],
      "metadata": {
        "id": "T3rkLmmaSh5b"
      },
      "execution_count": null,
      "outputs": []
    },
    {
      "cell_type": "code",
      "source": [
        "def aproexp(t, k1, k2, a):\n",
        "\n",
        "\treturn ((a * (e ** (-k1*t))) + ((1-a) * (e ** (-k2 * t))))\n",
        "\n",
        "parameters, _ = curve_fit(aproexp, X, Y, maxfev=5000)\n",
        "k1, k2, a = parameters\n",
        "\n",
        "Y_pred = ((a * (e ** (-k1*X))) + ((1-a) * (e ** (-k2 * X))))\n",
        "\n",
        "r_2 = r2_score(Y, Y_pred)\n",
        "ListaR2.append(r_2)\n",
        "ListaK.append('')\n",
        "Listan.append('')\n",
        "Listaa.append(a)\n",
        "Listab.append('')\n",
        "Listac.append('')\n",
        "Listak1.append(k1)\n",
        "Listak2.append(k2)\n",
        "Listak3.append('')"
      ],
      "metadata": {
        "id": "fzYf6HehTMUd"
      },
      "execution_count": null,
      "outputs": []
    },
    {
      "cell_type": "code",
      "source": [
        "def HPmod(t, k1, k2, k3, a, b ,c):\n",
        "\n",
        "\treturn a*e **(-k1 *t) + b*e **(-k2*t) + c*e **(-k3*t)\n",
        "parameters, _ = curve_fit(HPmod, X, Y)\n",
        "k1, k2, k3, a, b, c = parameters\n",
        "Y_pred =a*e **(-k1 *X) + b*e **(-k2*X) + c*e **(-k3*X)\n",
        "r_2 = r2_score(Y, Y_pred)\n",
        "ListaR2.append(r_2)\n",
        "ListaK.append('')\n",
        "Listan.append('')\n",
        "Listaa.append(a)\n",
        "Listab.append(b)\n",
        "Listac.append(c)\n",
        "Listak1.append(k1)\n",
        "Listak2.append(k2)\n",
        "Listak3.append(k3)"
      ],
      "metadata": {
        "colab": {
          "base_uri": "https://localhost:8080/"
        },
        "id": "FT99lgQ2TiH9",
        "outputId": "516c829d-34ca-4971-860b-29cee13408f8"
      },
      "execution_count": null,
      "outputs": [
        {
          "output_type": "stream",
          "name": "stderr",
          "text": [
            "/usr/local/lib/python3.7/dist-packages/scipy/optimize/minpack.py:834: OptimizeWarning: Covariance of the parameters could not be estimated\n",
            "  category=OptimizeWarning)\n"
          ]
        }
      ]
    },
    {
      "cell_type": "code",
      "source": [
        "F = pd.DataFrame({'R2':ListaR2,\n",
        "                  'K':ListaK,\n",
        "                  'a':Listaa,\n",
        "                  'b':Listab,\n",
        "                  'c':Listac,\n",
        "                  'k1':Listak1,\n",
        "                  'k2':Listak2,\n",
        "                  'k3':Listak3,\n",
        "                  'n':Listan})"
      ],
      "metadata": {
        "id": "nYHpPbwAeMr8"
      },
      "execution_count": null,
      "outputs": []
    },
    {
      "cell_type": "code",
      "source": [
        "F"
      ],
      "metadata": {
        "colab": {
          "base_uri": "https://localhost:8080/",
          "height": 363
        },
        "id": "RI3co18pfW13",
        "outputId": "a2b72028-73a6-492d-d18e-40a2e091ee21"
      },
      "execution_count": null,
      "outputs": [
        {
          "output_type": "execute_result",
          "data": {
            "text/plain": [
              "         R2                      K           a         b         c        k1  \\\n",
              "0  0.921712  [0.16096715038604714]                                             \n",
              "1  0.989830               0.051904                                             \n",
              "2  0.989830               0.155009                                             \n",
              "3  0.980774                0.20818    1.310914                                 \n",
              "4  0.996640               0.139144    1.397199           -0.196743             \n",
              "5  0.996715               0.139918    1.178219 -0.007815                       \n",
              "6  0.980774                           0.667072  0.643843            0.208178   \n",
              "7  0.989989               0.268198    2.129447                                 \n",
              "8  0.990523                         162.701027                      0.358313   \n",
              "9  0.980774                           0.436289  0.431727  0.442899  0.208184   \n",
              "\n",
              "         k2        k3         n  \n",
              "0                                \n",
              "1                      1.586872  \n",
              "2                      1.586872  \n",
              "3                      1.586872  \n",
              "4                      1.586872  \n",
              "5                      1.069041  \n",
              "6  0.208184                      \n",
              "7                                \n",
              "8  0.360798                      \n",
              "9   0.20818  0.208178            "
            ],
            "text/html": [
              "\n",
              "  <div id=\"df-494d0dca-1d66-4c7a-ae40-4751861ed320\">\n",
              "    <div class=\"colab-df-container\">\n",
              "      <div>\n",
              "<style scoped>\n",
              "    .dataframe tbody tr th:only-of-type {\n",
              "        vertical-align: middle;\n",
              "    }\n",
              "\n",
              "    .dataframe tbody tr th {\n",
              "        vertical-align: top;\n",
              "    }\n",
              "\n",
              "    .dataframe thead th {\n",
              "        text-align: right;\n",
              "    }\n",
              "</style>\n",
              "<table border=\"1\" class=\"dataframe\">\n",
              "  <thead>\n",
              "    <tr style=\"text-align: right;\">\n",
              "      <th></th>\n",
              "      <th>R2</th>\n",
              "      <th>K</th>\n",
              "      <th>a</th>\n",
              "      <th>b</th>\n",
              "      <th>c</th>\n",
              "      <th>k1</th>\n",
              "      <th>k2</th>\n",
              "      <th>k3</th>\n",
              "      <th>n</th>\n",
              "    </tr>\n",
              "  </thead>\n",
              "  <tbody>\n",
              "    <tr>\n",
              "      <th>0</th>\n",
              "      <td>0.921712</td>\n",
              "      <td>[0.16096715038604714]</td>\n",
              "      <td></td>\n",
              "      <td></td>\n",
              "      <td></td>\n",
              "      <td></td>\n",
              "      <td></td>\n",
              "      <td></td>\n",
              "      <td></td>\n",
              "    </tr>\n",
              "    <tr>\n",
              "      <th>1</th>\n",
              "      <td>0.989830</td>\n",
              "      <td>0.051904</td>\n",
              "      <td></td>\n",
              "      <td></td>\n",
              "      <td></td>\n",
              "      <td></td>\n",
              "      <td></td>\n",
              "      <td></td>\n",
              "      <td>1.586872</td>\n",
              "    </tr>\n",
              "    <tr>\n",
              "      <th>2</th>\n",
              "      <td>0.989830</td>\n",
              "      <td>0.155009</td>\n",
              "      <td></td>\n",
              "      <td></td>\n",
              "      <td></td>\n",
              "      <td></td>\n",
              "      <td></td>\n",
              "      <td></td>\n",
              "      <td>1.586872</td>\n",
              "    </tr>\n",
              "    <tr>\n",
              "      <th>3</th>\n",
              "      <td>0.980774</td>\n",
              "      <td>0.20818</td>\n",
              "      <td>1.310914</td>\n",
              "      <td></td>\n",
              "      <td></td>\n",
              "      <td></td>\n",
              "      <td></td>\n",
              "      <td></td>\n",
              "      <td>1.586872</td>\n",
              "    </tr>\n",
              "    <tr>\n",
              "      <th>4</th>\n",
              "      <td>0.996640</td>\n",
              "      <td>0.139144</td>\n",
              "      <td>1.397199</td>\n",
              "      <td></td>\n",
              "      <td>-0.196743</td>\n",
              "      <td></td>\n",
              "      <td></td>\n",
              "      <td></td>\n",
              "      <td>1.586872</td>\n",
              "    </tr>\n",
              "    <tr>\n",
              "      <th>5</th>\n",
              "      <td>0.996715</td>\n",
              "      <td>0.139918</td>\n",
              "      <td>1.178219</td>\n",
              "      <td>-0.007815</td>\n",
              "      <td></td>\n",
              "      <td></td>\n",
              "      <td></td>\n",
              "      <td></td>\n",
              "      <td>1.069041</td>\n",
              "    </tr>\n",
              "    <tr>\n",
              "      <th>6</th>\n",
              "      <td>0.980774</td>\n",
              "      <td></td>\n",
              "      <td>0.667072</td>\n",
              "      <td>0.643843</td>\n",
              "      <td></td>\n",
              "      <td>0.208178</td>\n",
              "      <td>0.208184</td>\n",
              "      <td></td>\n",
              "      <td></td>\n",
              "    </tr>\n",
              "    <tr>\n",
              "      <th>7</th>\n",
              "      <td>0.989989</td>\n",
              "      <td>0.268198</td>\n",
              "      <td>2.129447</td>\n",
              "      <td></td>\n",
              "      <td></td>\n",
              "      <td></td>\n",
              "      <td></td>\n",
              "      <td></td>\n",
              "      <td></td>\n",
              "    </tr>\n",
              "    <tr>\n",
              "      <th>8</th>\n",
              "      <td>0.990523</td>\n",
              "      <td></td>\n",
              "      <td>162.701027</td>\n",
              "      <td></td>\n",
              "      <td></td>\n",
              "      <td>0.358313</td>\n",
              "      <td>0.360798</td>\n",
              "      <td></td>\n",
              "      <td></td>\n",
              "    </tr>\n",
              "    <tr>\n",
              "      <th>9</th>\n",
              "      <td>0.980774</td>\n",
              "      <td></td>\n",
              "      <td>0.436289</td>\n",
              "      <td>0.431727</td>\n",
              "      <td>0.442899</td>\n",
              "      <td>0.208184</td>\n",
              "      <td>0.20818</td>\n",
              "      <td>0.208178</td>\n",
              "      <td></td>\n",
              "    </tr>\n",
              "  </tbody>\n",
              "</table>\n",
              "</div>\n",
              "      <button class=\"colab-df-convert\" onclick=\"convertToInteractive('df-494d0dca-1d66-4c7a-ae40-4751861ed320')\"\n",
              "              title=\"Convert this dataframe to an interactive table.\"\n",
              "              style=\"display:none;\">\n",
              "        \n",
              "  <svg xmlns=\"http://www.w3.org/2000/svg\" height=\"24px\"viewBox=\"0 0 24 24\"\n",
              "       width=\"24px\">\n",
              "    <path d=\"M0 0h24v24H0V0z\" fill=\"none\"/>\n",
              "    <path d=\"M18.56 5.44l.94 2.06.94-2.06 2.06-.94-2.06-.94-.94-2.06-.94 2.06-2.06.94zm-11 1L8.5 8.5l.94-2.06 2.06-.94-2.06-.94L8.5 2.5l-.94 2.06-2.06.94zm10 10l.94 2.06.94-2.06 2.06-.94-2.06-.94-.94-2.06-.94 2.06-2.06.94z\"/><path d=\"M17.41 7.96l-1.37-1.37c-.4-.4-.92-.59-1.43-.59-.52 0-1.04.2-1.43.59L10.3 9.45l-7.72 7.72c-.78.78-.78 2.05 0 2.83L4 21.41c.39.39.9.59 1.41.59.51 0 1.02-.2 1.41-.59l7.78-7.78 2.81-2.81c.8-.78.8-2.07 0-2.86zM5.41 20L4 18.59l7.72-7.72 1.47 1.35L5.41 20z\"/>\n",
              "  </svg>\n",
              "      </button>\n",
              "      \n",
              "  <style>\n",
              "    .colab-df-container {\n",
              "      display:flex;\n",
              "      flex-wrap:wrap;\n",
              "      gap: 12px;\n",
              "    }\n",
              "\n",
              "    .colab-df-convert {\n",
              "      background-color: #E8F0FE;\n",
              "      border: none;\n",
              "      border-radius: 50%;\n",
              "      cursor: pointer;\n",
              "      display: none;\n",
              "      fill: #1967D2;\n",
              "      height: 32px;\n",
              "      padding: 0 0 0 0;\n",
              "      width: 32px;\n",
              "    }\n",
              "\n",
              "    .colab-df-convert:hover {\n",
              "      background-color: #E2EBFA;\n",
              "      box-shadow: 0px 1px 2px rgba(60, 64, 67, 0.3), 0px 1px 3px 1px rgba(60, 64, 67, 0.15);\n",
              "      fill: #174EA6;\n",
              "    }\n",
              "\n",
              "    [theme=dark] .colab-df-convert {\n",
              "      background-color: #3B4455;\n",
              "      fill: #D2E3FC;\n",
              "    }\n",
              "\n",
              "    [theme=dark] .colab-df-convert:hover {\n",
              "      background-color: #434B5C;\n",
              "      box-shadow: 0px 1px 3px 1px rgba(0, 0, 0, 0.15);\n",
              "      filter: drop-shadow(0px 1px 2px rgba(0, 0, 0, 0.3));\n",
              "      fill: #FFFFFF;\n",
              "    }\n",
              "  </style>\n",
              "\n",
              "      <script>\n",
              "        const buttonEl =\n",
              "          document.querySelector('#df-494d0dca-1d66-4c7a-ae40-4751861ed320 button.colab-df-convert');\n",
              "        buttonEl.style.display =\n",
              "          google.colab.kernel.accessAllowed ? 'block' : 'none';\n",
              "\n",
              "        async function convertToInteractive(key) {\n",
              "          const element = document.querySelector('#df-494d0dca-1d66-4c7a-ae40-4751861ed320');\n",
              "          const dataTable =\n",
              "            await google.colab.kernel.invokeFunction('convertToInteractive',\n",
              "                                                     [key], {});\n",
              "          if (!dataTable) return;\n",
              "\n",
              "          const docLinkHtml = 'Like what you see? Visit the ' +\n",
              "            '<a target=\"_blank\" href=https://colab.research.google.com/notebooks/data_table.ipynb>data table notebook</a>'\n",
              "            + ' to learn more about interactive tables.';\n",
              "          element.innerHTML = '';\n",
              "          dataTable['output_type'] = 'display_data';\n",
              "          await google.colab.output.renderOutput(dataTable, element);\n",
              "          const docLink = document.createElement('div');\n",
              "          docLink.innerHTML = docLinkHtml;\n",
              "          element.appendChild(docLink);\n",
              "        }\n",
              "      </script>\n",
              "    </div>\n",
              "  </div>\n",
              "  "
            ]
          },
          "metadata": {},
          "execution_count": 66
        }
      ]
    },
    {
      "cell_type": "code",
      "source": [
        "F.to_excel('infernoamen.xlsx')"
      ],
      "metadata": {
        "id": "WRnNskdNjTgK"
      },
      "execution_count": null,
      "outputs": []
    },
    {
      "cell_type": "markdown",
      "source": [
        "# Resultados"
      ],
      "metadata": {
        "id": "_IavLgzjNuzc"
      }
    },
    {
      "cell_type": "code",
      "source": [
        "Y_pred = e ** (-k * ((X)**n))"
      ],
      "metadata": {
        "id": "zTnlkx8NJ7jW"
      },
      "execution_count": null,
      "outputs": []
    },
    {
      "cell_type": "code",
      "source": [
        "import matplotlib.pyplot as plt\n",
        "import seaborn as sns"
      ],
      "metadata": {
        "id": "DdLtrBzoJrM_"
      },
      "execution_count": null,
      "outputs": []
    },
    {
      "cell_type": "code",
      "source": [
        "sns.set_style('ticks')\n",
        "plt.figure(figsize = (8, 4), dpi = 100)\n",
        "plt.scatter(X, Y, alpha = 0.7, label = 'Dados Experimentais (Tijolo)')\n",
        "plt.scatter(X, Y2, alpha = 0.7, label = 'Dados Experimentais (Amêndoa)')\n",
        "plt.plot(X, Y_pred, color = 'tab:red', linewidth = 2, label = 'Modelo');\n",
        "plt.plot(X, Y_pred2, color = 'tab:red', linewidth = 2, label = 'Modelo');\n",
        "plt.xlabel('Tempo (min)', size = 12)\n",
        "plt.ylabel('MR', size = 12)\n",
        "plt.suptitle('Comparação dos Dados', fontweight='bold', size = 16)\n",
        "plt.legend()\n",
        "plt.savefig('midili' , dpi=300, bbox_inches='tight')\n",
        "plt.savefig('midili2', dpi= 100, bbox_inches='tight')"
      ],
      "metadata": {
        "colab": {
          "base_uri": "https://localhost:8080/",
          "height": 426
        },
        "id": "8_EdOiglKRli",
        "outputId": "d1f5a931-cca3-469c-8cb7-814e5630241f"
      },
      "execution_count": null,
      "outputs": [
        {
          "output_type": "display_data",
          "data": {
            "text/plain": [
              "<Figure size 800x400 with 1 Axes>"
            ],
            "image/png": "[encoded data removed]"
          },
          "metadata": {}
        }
      ]
    },
    {
      "cell_type": "code",
      "source": [],
      "metadata": {
        "colab": {
          "base_uri": "https://localhost:8080/",
          "height": 34
        },
        "id": "2wHCote4vFcI",
        "outputId": "108c115c-114e-4a8c-c791-c5b1d11056d9"
      },
      "execution_count": null,
      "outputs": [
        {
          "output_type": "display_data",
          "data": {
            "text/plain": [
              "<Figure size 432x288 with 0 Axes>"
            ]
          },
          "metadata": {}
        }
      ]
    },
    {
      "cell_type": "code",
      "source": [
        "from sklearn.metrics import r2_score\n",
        "r_2 = r2_score(Y, Y_pred)\n",
        "r_2"
      ],
      "metadata": {
        "colab": {
          "base_uri": "https://localhost:8080/"
        },
        "id": "MOCzu4cpKFW4",
        "outputId": "54a9ef74-a40c-4ae2-fcf8-e34dd714f9bb"
      },
      "execution_count": null,
      "outputs": [
        {
          "output_type": "execute_result",
          "data": {
            "text/plain": [
              "0.9999616598704493"
            ]
          },
          "metadata": {},
          "execution_count": 43
        }
      ]
    },
    {
      "cell_type": "markdown",
      "source": [
        "# RMSE"
      ],
      "metadata": {
        "id": "SPRz0LgbLt59"
      }
    },
    {
      "cell_type": "code",
      "source": [
        "from numpy import sqrt\n",
        "from sklearn.metrics import mean_squared_error\n",
        "rmse = sqrt(mean_squared_error(Y,Y_pred))\n",
        "rmse"
      ],
      "metadata": {
        "colab": {
          "base_uri": "https://localhost:8080/"
        },
        "id": "a0IjmM_WLuSb",
        "outputId": "91e82b3d-69ec-4acf-c585-388daa8fe109"
      },
      "execution_count": null,
      "outputs": [
        {
          "output_type": "execute_result",
          "data": {
            "text/plain": [
              "0.0019013431510033838"
            ]
          },
          "metadata": {},
          "execution_count": 44
        }
      ]
    },
    {
      "cell_type": "markdown",
      "source": [
        "# MAE"
      ],
      "metadata": {
        "id": "9gHyg3rbLxb_"
      }
    },
    {
      "cell_type": "code",
      "source": [
        "from sklearn.metrics import mean_absolute_error\n",
        "mae = mean_absolute_error(Y,Y_pred)\n",
        "mae"
      ],
      "metadata": {
        "colab": {
          "base_uri": "https://localhost:8080/"
        },
        "id": "a9eI5SXdLxhG",
        "outputId": "dfef0c58-ff46-40a7-cfd9-b6eff37b854f"
      },
      "execution_count": null,
      "outputs": [
        {
          "output_type": "execute_result",
          "data": {
            "text/plain": [
              "0.001695769557161205"
            ]
          },
          "metadata": {},
          "execution_count": 45
        }
      ]
    },
    {
      "cell_type": "markdown",
      "source": [
        "***"
      ],
      "metadata": {
        "id": "erDppENfNhAc"
      }
    }
  ]
}